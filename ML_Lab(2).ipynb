{
  "nbformat": 4,
  "nbformat_minor": 0,
  "metadata": {
    "colab": {
      "provenance": [],
      "authorship_tag": "ABX9TyOgFB1Ioawg9SNRg4xZNhKx",
      "include_colab_link": true
    },
    "kernelspec": {
      "name": "python3",
      "display_name": "Python 3"
    },
    "language_info": {
      "name": "python"
    }
  },
  "cells": [
    {
      "cell_type": "markdown",
      "metadata": {
        "id": "view-in-github",
        "colab_type": "text"
      },
      "source": [
        "<a href=\"https://colab.research.google.com/github/Ferdaus71/ML_Lab-performance/blob/main/ML_Lab(2).ipynb\" target=\"_parent\"><img src=\"https://colab.research.google.com/assets/colab-badge.svg\" alt=\"Open In Colab\"/></a>"
      ]
    },
    {
      "cell_type": "code",
      "execution_count": null,
      "metadata": {
        "id": "0XWmMbK_gHQc"
      },
      "outputs": [],
      "source": [
        "import pandas as pd\n"
      ]
    },
    {
      "cell_type": "code",
      "source": [
        "from google.colab import drive\n",
        "drive.mount('/content/drive')\n",
        "\n"
      ],
      "metadata": {
        "colab": {
          "base_uri": "https://localhost:8080/"
        },
        "id": "FN00K1FXiMTN",
        "outputId": "e9cefe92-717b-42ae-9d4b-1815d877b968"
      },
      "execution_count": null,
      "outputs": [
        {
          "output_type": "stream",
          "name": "stdout",
          "text": [
            "Mounted at /content/drive\n"
          ]
        }
      ]
    },
    {
      "cell_type": "code",
      "source": [
        "import pandas as pd\n",
        "\n",
        "# Use the actual file name here\n",
        "path = '/content/Friday-WorkingHours-Afternoon-DDos.pcap_ISCX.csv'\n",
        "\n",
        "df = pd.read_csv(path)\n",
        "\n",
        "# Display the first few rows of the DataFrame to verify\n",
        "print(df.head())"
      ],
      "metadata": {
        "colab": {
          "base_uri": "https://localhost:8080/"
        },
        "id": "c1JIMW-mjq5F",
        "outputId": "1d7dfcec-a007-4b6b-a03d-f5bd3e0b8c87"
      },
      "execution_count": null,
      "outputs": [
        {
          "output_type": "stream",
          "name": "stdout",
          "text": [
            "                                   Flow ID       Source IP   Source Port  \\\n",
            "0  192.168.10.5-104.16.207.165-54865-443-6  104.16.207.165           443   \n",
            "1    192.168.10.5-104.16.28.216-55054-80-6   104.16.28.216            80   \n",
            "2    192.168.10.5-104.16.28.216-55055-80-6   104.16.28.216            80   \n",
            "3  192.168.10.16-104.17.241.25-46236-443-6   104.17.241.25           443   \n",
            "4  192.168.10.5-104.19.196.102-54863-443-6  104.19.196.102           443   \n",
            "\n",
            "   Destination IP   Destination Port   Protocol      Timestamp  \\\n",
            "0    192.168.10.5              54865          6  7/7/2017 3:30   \n",
            "1    192.168.10.5              55054          6  7/7/2017 3:30   \n",
            "2    192.168.10.5              55055          6  7/7/2017 3:30   \n",
            "3   192.168.10.16              46236          6  7/7/2017 3:30   \n",
            "4    192.168.10.5              54863          6  7/7/2017 3:30   \n",
            "\n",
            "    Flow Duration   Total Fwd Packets   Total Backward Packets  ...  \\\n",
            "0               3                   2                        0  ...   \n",
            "1             109                   1                        1  ...   \n",
            "2              52                   1                        1  ...   \n",
            "3              34                   1                        1  ...   \n",
            "4               3                   2                        0  ...   \n",
            "\n",
            "    min_seg_size_forward  Active Mean   Active Std   Active Max   Active Min  \\\n",
            "0                     20          0.0          0.0            0            0   \n",
            "1                     20          0.0          0.0            0            0   \n",
            "2                     20          0.0          0.0            0            0   \n",
            "3                     20          0.0          0.0            0            0   \n",
            "4                     20          0.0          0.0            0            0   \n",
            "\n",
            "   Idle Mean   Idle Std   Idle Max   Idle Min   Label  \n",
            "0        0.0        0.0          0          0  BENIGN  \n",
            "1        0.0        0.0          0          0  BENIGN  \n",
            "2        0.0        0.0          0          0  BENIGN  \n",
            "3        0.0        0.0          0          0  BENIGN  \n",
            "4        0.0        0.0          0          0  BENIGN  \n",
            "\n",
            "[5 rows x 85 columns]\n"
          ]
        }
      ]
    },
    {
      "cell_type": "code",
      "source": [
        "data = df"
      ],
      "metadata": {
        "id": "ZJwqe5u_lXfS"
      },
      "execution_count": null,
      "outputs": []
    },
    {
      "cell_type": "code",
      "source": [
        "data.columns = data.columns.str.strip()"
      ],
      "metadata": {
        "id": "CjHgr7Rnlpmw"
      },
      "execution_count": null,
      "outputs": []
    },
    {
      "cell_type": "code",
      "source": [
        "data.columns"
      ],
      "metadata": {
        "colab": {
          "base_uri": "https://localhost:8080/"
        },
        "id": "u0f9g8--l59e",
        "outputId": "ca96fad7-085e-4169-bf4a-6e490c5d8a49"
      },
      "execution_count": null,
      "outputs": [
        {
          "output_type": "execute_result",
          "data": {
            "text/plain": [
              "Index(['Flow ID', 'Source IP', 'Source Port', 'Destination IP',\n",
              "       'Destination Port', 'Protocol', 'Timestamp', 'Flow Duration',\n",
              "       'Total Fwd Packets', 'Total Backward Packets',\n",
              "       'Total Length of Fwd Packets', 'Total Length of Bwd Packets',\n",
              "       'Fwd Packet Length Max', 'Fwd Packet Length Min',\n",
              "       'Fwd Packet Length Mean', 'Fwd Packet Length Std',\n",
              "       'Bwd Packet Length Max', 'Bwd Packet Length Min',\n",
              "       'Bwd Packet Length Mean', 'Bwd Packet Length Std', 'Flow Bytes/s',\n",
              "       'Flow Packets/s', 'Flow IAT Mean', 'Flow IAT Std', 'Flow IAT Max',\n",
              "       'Flow IAT Min', 'Fwd IAT Total', 'Fwd IAT Mean', 'Fwd IAT Std',\n",
              "       'Fwd IAT Max', 'Fwd IAT Min', 'Bwd IAT Total', 'Bwd IAT Mean',\n",
              "       'Bwd IAT Std', 'Bwd IAT Max', 'Bwd IAT Min', 'Fwd PSH Flags',\n",
              "       'Bwd PSH Flags', 'Fwd URG Flags', 'Bwd URG Flags', 'Fwd Header Length',\n",
              "       'Bwd Header Length', 'Fwd Packets/s', 'Bwd Packets/s',\n",
              "       'Min Packet Length', 'Max Packet Length', 'Packet Length Mean',\n",
              "       'Packet Length Std', 'Packet Length Variance', 'FIN Flag Count',\n",
              "       'SYN Flag Count', 'RST Flag Count', 'PSH Flag Count', 'ACK Flag Count',\n",
              "       'URG Flag Count', 'CWE Flag Count', 'ECE Flag Count', 'Down/Up Ratio',\n",
              "       'Average Packet Size', 'Avg Fwd Segment Size', 'Avg Bwd Segment Size',\n",
              "       'Fwd Header Length.1', 'Fwd Avg Bytes/Bulk', 'Fwd Avg Packets/Bulk',\n",
              "       'Fwd Avg Bulk Rate', 'Bwd Avg Bytes/Bulk', 'Bwd Avg Packets/Bulk',\n",
              "       'Bwd Avg Bulk Rate', 'Subflow Fwd Packets', 'Subflow Fwd Bytes',\n",
              "       'Subflow Bwd Packets', 'Subflow Bwd Bytes', 'Init_Win_bytes_forward',\n",
              "       'Init_Win_bytes_backward', 'act_data_pkt_fwd', 'min_seg_size_forward',\n",
              "       'Active Mean', 'Active Std', 'Active Max', 'Active Min', 'Idle Mean',\n",
              "       'Idle Std', 'Idle Max', 'Idle Min', 'Label'],\n",
              "      dtype='object')"
            ]
          },
          "metadata": {},
          "execution_count": 7
        }
      ]
    },
    {
      "cell_type": "code",
      "source": [
        "import pandas as pd\n",
        "\n",
        "# Select columns that are of 'object' or 'category' data type\n",
        "categorical_columns = df.select_dtypes(include=['object', 'category']).columns\n",
        "\n",
        "# Convert the Index to a list for easier viewing, if desired\n",
        "categorical_columns_list = categorical_columns.tolist()\n",
        "\n",
        "print(\"Identified Categorical Columns:\")\n",
        "print(categorical_columns_list)"
      ],
      "metadata": {
        "colab": {
          "base_uri": "https://localhost:8080/"
        },
        "id": "KE5sv-ICm24q",
        "outputId": "d7789821-a854-43d6-c408-49d6b9c92640"
      },
      "execution_count": null,
      "outputs": [
        {
          "output_type": "stream",
          "name": "stdout",
          "text": [
            "Identified Categorical Columns:\n",
            "['Flow ID', 'Source IP', 'Destination IP', 'Timestamp', 'Label']\n"
          ]
        }
      ]
    },
    {
      "cell_type": "code",
      "source": [
        "columns_to_drop = [col for col in categorical_columns if col != 'Label']\n",
        "df_cleaned = data.drop(columns=columns_to_drop)"
      ],
      "metadata": {
        "id": "gu4iGlTRph6r"
      },
      "execution_count": null,
      "outputs": []
    },
    {
      "cell_type": "code",
      "source": [
        "\n",
        "categorical_columns = df.select_dtypes(include=['object','category']).columns\n",
        "\n",
        "# Convert the Index to a list for easier viewing\n",
        "categorical_columns_list = categorical_columns.tolist()\n",
        "\n",
        "# Corrected print statement for 'Categorical'\n",
        "print(\"Identified Categorical Columns: \")\n",
        "print(categorical_columns_list)"
      ],
      "metadata": {
        "colab": {
          "base_uri": "https://localhost:8080/"
        },
        "id": "0zCNNmE-rOU2",
        "outputId": "5b89314b-2672-4f62-fb31-57d373ca6494"
      },
      "execution_count": null,
      "outputs": [
        {
          "output_type": "stream",
          "name": "stdout",
          "text": [
            "Identified Categorical Columns: \n",
            "['Flow ID', 'Source IP', 'Destination IP', 'Timestamp', 'Label']\n"
          ]
        }
      ]
    },
    {
      "cell_type": "code",
      "source": [
        "# If you explicitly want only 'Label' to be in your list of identified categorical columns\n",
        "identified_categorical_columns = [' Label']\n",
        "\n",
        "print(\"Identified Categorical Columns (fixed to only ' Label'):\")\n",
        "print(identified_categorical_columns)"
      ],
      "metadata": {
        "colab": {
          "base_uri": "https://localhost:8080/"
        },
        "id": "KUsZ0cKHtTJH",
        "outputId": "1eeb2e7e-e454-4627-fa62-986822fb8326"
      },
      "execution_count": null,
      "outputs": [
        {
          "output_type": "stream",
          "name": "stdout",
          "text": [
            "Identified Categorical Columns (fixed to only ' Label'):\n",
            "[' Label']\n"
          ]
        }
      ]
    },
    {
      "cell_type": "code",
      "source": [
        "df_cleaned['Label'].value_counts()"
      ],
      "metadata": {
        "colab": {
          "base_uri": "https://localhost:8080/",
          "height": 178
        },
        "id": "ioHpxffetgbV",
        "outputId": "df20648e-d50e-40c7-9f47-af3fd2b0169c"
      },
      "execution_count": null,
      "outputs": [
        {
          "output_type": "execute_result",
          "data": {
            "text/plain": [
              "Label\n",
              "DDoS      128027\n",
              "BENIGN     97718\n",
              "Name: count, dtype: int64"
            ],
            "text/html": [
              "<div>\n",
              "<style scoped>\n",
              "    .dataframe tbody tr th:only-of-type {\n",
              "        vertical-align: middle;\n",
              "    }\n",
              "\n",
              "    .dataframe tbody tr th {\n",
              "        vertical-align: top;\n",
              "    }\n",
              "\n",
              "    .dataframe thead th {\n",
              "        text-align: right;\n",
              "    }\n",
              "</style>\n",
              "<table border=\"1\" class=\"dataframe\">\n",
              "  <thead>\n",
              "    <tr style=\"text-align: right;\">\n",
              "      <th></th>\n",
              "      <th>count</th>\n",
              "    </tr>\n",
              "    <tr>\n",
              "      <th>Label</th>\n",
              "      <th></th>\n",
              "    </tr>\n",
              "  </thead>\n",
              "  <tbody>\n",
              "    <tr>\n",
              "      <th>DDoS</th>\n",
              "      <td>128027</td>\n",
              "    </tr>\n",
              "    <tr>\n",
              "      <th>BENIGN</th>\n",
              "      <td>97718</td>\n",
              "    </tr>\n",
              "  </tbody>\n",
              "</table>\n",
              "</div><br><label><b>dtype:</b> int64</label>"
            ]
          },
          "metadata": {},
          "execution_count": 20
        }
      ]
    },
    {
      "cell_type": "code",
      "source": [
        "import numpy as np\n",
        "\n",
        "nan_counts_per_column = df.isnull().sum()\n",
        "total_nan_count = nan_counts_per_column.sum()\n",
        "\n",
        "print(\"--- NaN (Null) Value Counts per Column ---\")\n",
        "print(nan_counts_per_column)\n",
        "\n",
        "print(\"\\n--- Summary of NaN Values ---\")\n",
        "if total_nan_count > 0:\n",
        "    print(f\"There are a total of {total_nan_count} NaN values in the DataFrame.\")\n",
        "else:\n",
        "    print(\"There are no NaN values in the DataFrame.\")\n",
        "\n",
        "print(\"\\n--- Infinity Value Counts per Numerical Column ---\")\n",
        "\n",
        "numerical_df = df.select_dtypes(include=[np.number])\n",
        "\n",
        "inf_counts_per_column = numerical_df.apply(lambda x: np.isinf(x).sum())\n",
        "total_inf_count = inf_counts_per_column.sum()\n",
        "\n",
        "print(inf_counts_per_column)\n",
        "\n",
        "print(\"\\n--- Summary of Infinity Values ---\")\n",
        "if total_inf_count > 0:\n",
        "    print(f\"There are a total of {total_inf_count} infinity values in the numerical columns of the DataFrame.\")\n",
        "else:\n",
        "    print(\"There are no infinity values in the numerical columns of the DataFrame.\")\n",
        "\n",
        "print(\"\\n--- Combined Null OR Infinity Value Counts (Numerical Columns Only) ---\")\n",
        "null_or_inf_combined_counts = numerical_df.apply(lambda x: x.isnull().sum() + np.isinf(x).sum())\n",
        "total_null_or_inf_count = null_or_inf_combined_counts.sum()\n",
        "\n",
        "print(null_or_inf_combined_counts)\n"
      ],
      "metadata": {
        "colab": {
          "base_uri": "https://localhost:8080/"
        },
        "id": "t49EU_F40zTT",
        "outputId": "a05b5204-d97a-4737-8c58-f133f5e0a856"
      },
      "execution_count": null,
      "outputs": [
        {
          "output_type": "stream",
          "name": "stdout",
          "text": [
            "--- NaN (Null) Value Counts per Column ---\n",
            "Flow ID             0\n",
            "Source IP           0\n",
            "Source Port         0\n",
            "Destination IP      0\n",
            "Destination Port    0\n",
            "                   ..\n",
            "Idle Mean           0\n",
            "Idle Std            0\n",
            "Idle Max            0\n",
            "Idle Min            0\n",
            "Label               0\n",
            "Length: 85, dtype: int64\n",
            "\n",
            "--- Summary of NaN Values ---\n",
            "There are a total of 4 NaN values in the DataFrame.\n",
            "\n",
            "--- Infinity Value Counts per Numerical Column ---\n",
            "Source Port          0\n",
            "Destination Port     0\n",
            "Protocol             0\n",
            "Flow Duration        0\n",
            "Total Fwd Packets    0\n",
            "                    ..\n",
            "Active Min           0\n",
            "Idle Mean            0\n",
            "Idle Std             0\n",
            "Idle Max             0\n",
            "Idle Min             0\n",
            "Length: 80, dtype: int64\n",
            "\n",
            "--- Summary of Infinity Values ---\n",
            "There are a total of 64 infinity values in the numerical columns of the DataFrame.\n",
            "\n",
            "--- Combined Null OR Infinity Value Counts (Numerical Columns Only) ---\n",
            "Source Port          0\n",
            "Destination Port     0\n",
            "Protocol             0\n",
            "Flow Duration        0\n",
            "Total Fwd Packets    0\n",
            "                    ..\n",
            "Active Min           0\n",
            "Idle Mean            0\n",
            "Idle Std             0\n",
            "Idle Max             0\n",
            "Idle Min             0\n",
            "Length: 80, dtype: int64\n"
          ]
        }
      ]
    },
    {
      "cell_type": "code",
      "source": [
        "df_no_nulls = df.dropna()"
      ],
      "metadata": {
        "id": "4Km2wEbI3H29"
      },
      "execution_count": null,
      "outputs": []
    },
    {
      "cell_type": "code",
      "source": [
        "df_no_inf_or_nulls = df_no_nulls.replace([np.inf, -np.inf], np.nan)"
      ],
      "metadata": {
        "id": "Bx-u-p0R4QSW"
      },
      "execution_count": null,
      "outputs": []
    },
    {
      "cell_type": "code",
      "source": [
        "import numpy as np\n",
        "\n",
        "nan_counts_per_column = df.isnull().sum()\n",
        "total_nan_count = nan_counts_per_column.sum()\n",
        "\n",
        "print(\"--- NaN (Null) Value Counts per Column ---\")\n",
        "print(nan_counts_per_column)\n",
        "\n",
        "print(\"\\n--- Summary of NaN Values ---\")\n",
        "if total_nan_count > 0:\n",
        "    print(f\"There are a total of {total_nan_count} NaN values in the DataFrame.\")\n",
        "else:\n",
        "    print(\"There are no NaN values in the DataFrame.\")\n",
        "\n",
        "print(\"\\n--- Infinity Value Counts per Numerical Column ---\")\n",
        "\n",
        "numerical_df = df.select_dtypes(include=[np.number])\n",
        "\n",
        "inf_counts_per_column = numerical_df.apply(lambda x: np.isinf(x).sum())\n",
        "total_inf_count = inf_counts_per_column.sum()\n",
        "\n",
        "print(inf_counts_per_column)\n",
        "\n",
        "print(\"\\n--- Summary of Infinity Values ---\")\n",
        "if total_inf_count > 0:\n",
        "    print(f\"There are a total of {total_inf_count} infinity values in the numerical columns of the DataFrame.\")\n",
        "else:\n",
        "    print(\"There are no infinity values in the numerical columns of the DataFrame.\")\n",
        "\n",
        "print(\"\\n--- Combined Null OR Infinity Value Counts (Numerical Columns Only) ---\")\n",
        "null_or_inf_combined_counts = numerical_df.apply(lambda x: x.isnull().sum() + np.isinf(x).sum())\n",
        "total_null_or_inf_count = null_or_inf_combined_counts.sum()\n",
        "\n",
        "print(null_or_inf_combined_counts)\n",
        "\n",
        "print(\"\\n--- Summary of Null OR Infinity Values ---\")\n",
        "if total_null_or_inf_count > 0:\n",
        "    print(f\"There are a total of {total_null_or_inf_count} null or infinity values in the numerical columns of the DataFrame.\")\n",
        "else:\n",
        "    print(\"There are no null or infinity values in the numerical columns of the DataFrame.\")"
      ],
      "metadata": {
        "colab": {
          "base_uri": "https://localhost:8080/"
        },
        "id": "V-6J4vGq4R7a",
        "outputId": "d71f3f41-d992-40b9-f32f-b3c142345c39"
      },
      "execution_count": null,
      "outputs": [
        {
          "output_type": "stream",
          "name": "stdout",
          "text": [
            "--- NaN (Null) Value Counts per Column ---\n",
            "Flow ID             0\n",
            "Source IP           0\n",
            "Source Port         0\n",
            "Destination IP      0\n",
            "Destination Port    0\n",
            "                   ..\n",
            "Idle Mean           0\n",
            "Idle Std            0\n",
            "Idle Max            0\n",
            "Idle Min            0\n",
            "Label               0\n",
            "Length: 85, dtype: int64\n",
            "\n",
            "--- Summary of NaN Values ---\n",
            "There are a total of 4 NaN values in the DataFrame.\n",
            "\n",
            "--- Infinity Value Counts per Numerical Column ---\n",
            "Source Port          0\n",
            "Destination Port     0\n",
            "Protocol             0\n",
            "Flow Duration        0\n",
            "Total Fwd Packets    0\n",
            "                    ..\n",
            "Active Min           0\n",
            "Idle Mean            0\n",
            "Idle Std             0\n",
            "Idle Max             0\n",
            "Idle Min             0\n",
            "Length: 80, dtype: int64\n",
            "\n",
            "--- Summary of Infinity Values ---\n",
            "There are a total of 64 infinity values in the numerical columns of the DataFrame.\n",
            "\n",
            "--- Combined Null OR Infinity Value Counts (Numerical Columns Only) ---\n",
            "Source Port          0\n",
            "Destination Port     0\n",
            "Protocol             0\n",
            "Flow Duration        0\n",
            "Total Fwd Packets    0\n",
            "                    ..\n",
            "Active Min           0\n",
            "Idle Mean            0\n",
            "Idle Std             0\n",
            "Idle Max             0\n",
            "Idle Min             0\n",
            "Length: 80, dtype: int64\n",
            "\n",
            "--- Summary of Null OR Infinity Values ---\n",
            "There are a total of 68 null or infinity values in the numerical columns of the DataFrame.\n"
          ]
        }
      ]
    },
    {
      "cell_type": "code",
      "source": [
        "from sklearn.preprocessing import LabelEncoder\n",
        "\n",
        "# Strip whitespace from column names to ensure accurate access\n",
        "df_no_inf_or_nulls.columns = df_no_inf_or_nulls.columns.str.strip()\n",
        "\n",
        "# Verify the column names after stripping spaces\n",
        "print(\"Column names after stripping whitespace:\")\n",
        "print(df_no_inf_or_nulls.columns.tolist())\n",
        "\n",
        "# Now, apply Label Encoding to the 'Label' column\n",
        "le = LabelEncoder()\n",
        "df_no_inf_or_nulls['Label_Encoded'] = le.fit_transform(df_no_inf_or_nulls['Label'])\n",
        "\n",
        "print(\"\\nOriginal unique labels:\", df_no_inf_or_nulls['Label'].unique())\n",
        "print(\"Encoded unique labels:\", df_no_inf_or_nulls['Label_Encoded'].unique())\n",
        "\n",
        "print(\"\\nMapping of original labels to encoded integers:\")\n",
        "for original_label, encoded_value in zip(le.classes_, le.transform(le.classes_)):\n",
        "    print(f\"'{original_label}' -> {encoded_value}\")\n",
        "\n",
        "print(\"\\nFirst 5 rows of DataFrame with the new 'Label_Encoded' column:\")\n",
        "print(df_no_inf_or_nulls[['Label', 'Label_Encoded']].head().to_markdown(index=False, numalign=\"left\", stralign=\"left\"))"
      ],
      "metadata": {
        "colab": {
          "base_uri": "https://localhost:8080/"
        },
        "id": "R4stjcdG72UP",
        "outputId": "1003808f-0883-498e-81ff-a0eaeeccfcbf"
      },
      "execution_count": null,
      "outputs": [
        {
          "output_type": "stream",
          "name": "stdout",
          "text": [
            "Column names after stripping whitespace:\n",
            "['Flow ID', 'Source IP', 'Source Port', 'Destination IP', 'Destination Port', 'Protocol', 'Timestamp', 'Flow Duration', 'Total Fwd Packets', 'Total Backward Packets', 'Total Length of Fwd Packets', 'Total Length of Bwd Packets', 'Fwd Packet Length Max', 'Fwd Packet Length Min', 'Fwd Packet Length Mean', 'Fwd Packet Length Std', 'Bwd Packet Length Max', 'Bwd Packet Length Min', 'Bwd Packet Length Mean', 'Bwd Packet Length Std', 'Flow Bytes/s', 'Flow Packets/s', 'Flow IAT Mean', 'Flow IAT Std', 'Flow IAT Max', 'Flow IAT Min', 'Fwd IAT Total', 'Fwd IAT Mean', 'Fwd IAT Std', 'Fwd IAT Max', 'Fwd IAT Min', 'Bwd IAT Total', 'Bwd IAT Mean', 'Bwd IAT Std', 'Bwd IAT Max', 'Bwd IAT Min', 'Fwd PSH Flags', 'Bwd PSH Flags', 'Fwd URG Flags', 'Bwd URG Flags', 'Fwd Header Length', 'Bwd Header Length', 'Fwd Packets/s', 'Bwd Packets/s', 'Min Packet Length', 'Max Packet Length', 'Packet Length Mean', 'Packet Length Std', 'Packet Length Variance', 'FIN Flag Count', 'SYN Flag Count', 'RST Flag Count', 'PSH Flag Count', 'ACK Flag Count', 'URG Flag Count', 'CWE Flag Count', 'ECE Flag Count', 'Down/Up Ratio', 'Average Packet Size', 'Avg Fwd Segment Size', 'Avg Bwd Segment Size', 'Fwd Header Length.1', 'Fwd Avg Bytes/Bulk', 'Fwd Avg Packets/Bulk', 'Fwd Avg Bulk Rate', 'Bwd Avg Bytes/Bulk', 'Bwd Avg Packets/Bulk', 'Bwd Avg Bulk Rate', 'Subflow Fwd Packets', 'Subflow Fwd Bytes', 'Subflow Bwd Packets', 'Subflow Bwd Bytes', 'Init_Win_bytes_forward', 'Init_Win_bytes_backward', 'act_data_pkt_fwd', 'min_seg_size_forward', 'Active Mean', 'Active Std', 'Active Max', 'Active Min', 'Idle Mean', 'Idle Std', 'Idle Max', 'Idle Min', 'Label']\n",
            "\n",
            "Original unique labels: ['BENIGN' 'DDoS']\n",
            "Encoded unique labels: [0 1]\n",
            "\n",
            "Mapping of original labels to encoded integers:\n",
            "'BENIGN' -> 0\n",
            "'DDoS' -> 1\n",
            "\n",
            "First 5 rows of DataFrame with the new 'Label_Encoded' column:\n",
            "| Label   | Label_Encoded   |\n",
            "|:--------|:----------------|\n",
            "| BENIGN  | 0               |\n",
            "| BENIGN  | 0               |\n",
            "| BENIGN  | 0               |\n",
            "| BENIGN  | 0               |\n",
            "| BENIGN  | 0               |\n"
          ]
        }
      ]
    },
    {
      "cell_type": "markdown",
      "source": [],
      "metadata": {
        "id": "sH9sn_YYoQgx"
      }
    }
  ]
}