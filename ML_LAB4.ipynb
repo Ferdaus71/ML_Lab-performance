{
  "nbformat": 4,
  "nbformat_minor": 0,
  "metadata": {
    "colab": {
      "provenance": [],
      "authorship_tag": "ABX9TyPXd7Zgf7PTJYPdgC82qS/Q",
      "include_colab_link": true
    },
    "kernelspec": {
      "name": "python3",
      "display_name": "Python 3"
    },
    "language_info": {
      "name": "python"
    }
  },
  "cells": [
    {
      "cell_type": "markdown",
      "metadata": {
        "id": "view-in-github",
        "colab_type": "text"
      },
      "source": [
        "<a href=\"https://colab.research.google.com/github/Ferdaus71/ML_Lab-performance/blob/main/ML_LAB4.ipynb\" target=\"_parent\"><img src=\"https://colab.research.google.com/assets/colab-badge.svg\" alt=\"Open In Colab\"/></a>"
      ]
    },
    {
      "cell_type": "code",
      "source": [
        "import numpy as np\n",
        "from sklearn.datasets import load_iris\n",
        "from sklearn.model_selection import train_test_split\n",
        "from sklearn.metrics import accuracy_score\n",
        "\n"
      ],
      "metadata": {
        "id": "7g6InqrY8tXr"
      },
      "execution_count": null,
      "outputs": []
    },
    {
      "cell_type": "code",
      "source": [
        "def sigmoid(z):\n",
        "    return 1 / (1 + np.exp(-z))"
      ],
      "metadata": {
        "id": "KY6JK7LX8uMn"
      },
      "execution_count": null,
      "outputs": []
    },
    {
      "cell_type": "code",
      "source": [
        "def compute_cost(X, y, weights):\n",
        "    m = len(y)\n",
        "    predictions = sigmoid(np.dot(X, weights))\n",
        "    cost = (-1/m) * np.sum(y * np.log(predictions) + (1 - y) * np.log(1 - predictions))\n",
        "    return cost"
      ],
      "metadata": {
        "id": "QxMa3hDG9fJe"
      },
      "execution_count": null,
      "outputs": []
    },
    {
      "cell_type": "code",
      "source": [
        "def gradient_descent(X, y, weights, learning_rate, iterations):\n",
        "    m = len(y)\n",
        "    cost_history = []\n",
        "\n",
        "    for _ in range(iterations):\n",
        "        predictions = sigmoid(np.dot(X, weights))\n",
        "        gradients = (1/m) * np.dot(X.T, (predictions - y))\n",
        "        weights -= learning_rate * gradients\n",
        "        cost_history.append(compute_cost(X, y, weights))\n",
        "\n",
        "    return weights, cost_history"
      ],
      "metadata": {
        "id": "A_eAOCQL9jTt"
      },
      "execution_count": null,
      "outputs": []
    },
    {
      "cell_type": "code",
      "source": [
        "class CustomLogisticRegression:\n",
        "    def __init__(self, learning_rate=0.01, iterations=1000):\n",
        "        self.learning_rate = learning_rate\n",
        "        self.iterations = iterations\n",
        "        self.weights = None\n",
        "\n",
        "    def fit(self, X, y):\n",
        "        m, n = X.shape\n",
        "        # Add bias term (column of ones)\n",
        "        X = np.hstack((np.ones((m, 1)), X))  # Add a column of ones to X for the bias term\n",
        "        self.weights = np.zeros(n + 1)  # Include the weight for the bias term\n",
        "\n",
        "        # Perform gradient descent to find optimal weights\n",
        "        self.weights, _ = gradient_descent(X, y, self.weights, self.learning_rate, self.iterations)\n",
        "\n",
        "    def predict(self, X):\n",
        "        m = X.shape[0]\n",
        "        X = np.hstack((np.ones((m, 1)), X))  # Add a column of ones to X for the bias term\n",
        "        predictions = sigmoid(np.dot(X, self.weights))\n",
        "        return (predictions >= 0.5).astype(int)  # Return 0 or 1 based on the sigmoid output\n",
        "\n",
        "    def score(self, X, y):\n",
        "        y_pred = self.predict(X)\n",
        "        return accuracy_score(y, y_pred)"
      ],
      "metadata": {
        "id": "LjAJkh-r9sdd"
      },
      "execution_count": null,
      "outputs": []
    },
    {
      "cell_type": "code",
      "source": [
        "iris = load_iris()\n",
        "X, y = iris.data, iris.target\n",
        "X = X[y != 2]  # Only keep classes 0 and 1\n",
        "y = y[y != 2]"
      ],
      "metadata": {
        "id": "KeuosxQz9zcV"
      },
      "execution_count": null,
      "outputs": []
    },
    {
      "cell_type": "code",
      "source": [
        "X_train, X_test, y_train, y_test = train_test_split(X, y, test_size=0.3, random_state=42)\n",
        "\n",
        "# Train the model\n",
        "model = CustomLogisticRegression(learning_rate=0.1, iterations=1000)\n",
        "model.fit(X_train, y_train)\n",
        "\n",
        "# Predict and evaluate the model\n",
        "accuracy = model.score(X_test, y_test)\n",
        "print(f\"Accuracy: {accuracy:.2f}\")"
      ],
      "metadata": {
        "colab": {
          "base_uri": "https://localhost:8080/"
        },
        "id": "GSpsEv4894Jl",
        "outputId": "df85ef67-6585-473c-b31f-da2f3a89bf28"
      },
      "execution_count": null,
      "outputs": [
        {
          "output_type": "stream",
          "name": "stdout",
          "text": [
            "Accuracy: 1.00\n"
          ]
        }
      ]
    },
    {
      "cell_type": "code",
      "source": [],
      "metadata": {
        "id": "jFXBp-3u9_Q9"
      },
      "execution_count": null,
      "outputs": []
    },
    {
      "cell_type": "code",
      "source": [],
      "metadata": {
        "id": "NWK_4g5LB_M_"
      },
      "execution_count": null,
      "outputs": []
    }
  ]
}