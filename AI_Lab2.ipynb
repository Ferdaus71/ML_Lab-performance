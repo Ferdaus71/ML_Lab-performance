{
  "nbformat": 4,
  "nbformat_minor": 0,
  "metadata": {
    "colab": {
      "provenance": [],
      "authorship_tag": "ABX9TyPtOXPIwZ9G2e/qgWVdRAc9",
      "include_colab_link": true
    },
    "kernelspec": {
      "name": "python3",
      "display_name": "Python 3"
    },
    "language_info": {
      "name": "python"
    }
  },
  "cells": [
    {
      "cell_type": "markdown",
      "metadata": {
        "id": "view-in-github",
        "colab_type": "text"
      },
      "source": [
        "<a href=\"https://colab.research.google.com/github/Ferdaus71/ML_Lab-performance/blob/main/AI_Lab2.ipynb\" target=\"_parent\"><img src=\"https://colab.research.google.com/assets/colab-badge.svg\" alt=\"Open In Colab\"/></a>"
      ]
    },
    {
      "cell_type": "code",
      "execution_count": null,
      "metadata": {
        "colab": {
          "base_uri": "https://localhost:8080/"
        },
        "id": "2ITetbKSlQwn",
        "outputId": "bb0526a3-f322-45df-e210-fe38165feed0"
      },
      "outputs": [
        {
          "output_type": "stream",
          "name": "stdout",
          "text": [
            "Original array:\n",
            "[[ 5  2  3  4  5]\n",
            " [ 6  7  8  9 10]\n",
            " [11 12 13 14 15]\n",
            " [16 17 18 19 20]]\n",
            "\n",
            "perform element-wise multiplications between each pair of consecutive rows:\n",
            "[[ 30  14  24  36  50]\n",
            " [ 66  84 104 126 150]\n",
            " [176 204 234 266 300]]\n"
          ]
        }
      ],
      "source": [
        "import numpy as np\n",
        "array = np.array([\n",
        "    [5, 2, 3, 4, 5],\n",
        "    [6, 7, 8, 9, 10],\n",
        "    [11, 12, 13, 14, 15],\n",
        "    [16, 17, 18, 19, 20]\n",
        "])\n",
        "result = array[:-1] * array[1:]\n",
        "\n",
        "print(\"Original array:\")\n",
        "print(array)\n",
        "print(\"\\nperform element-wise multiplications between each pair of consecutive rows:\")\n",
        "print(result)"
      ]
    },
    {
      "cell_type": "code",
      "source": [
        "import numpy as np\n",
        "\n",
        "N = 5\n",
        "heights = np.random.uniform(1.5, 2.0, N)\n",
        "weights = np.random.uniform(50, 100, N)\n",
        "bmi = weights / (heights ** 2)\n",
        "\n",
        "filtered_data = [\n",
        "    {\"height\": h, \"weight\": w, \"bmi\": b}\n",
        "    for h, w, b in zip(heights[bmi > 25], weights[bmi > 25], bmi[bmi > 25])\n",
        "]\n",
        "\n",
        "print(\"People with BMI > 25:\")\n",
        "for person in filtered_data:\n",
        "    print(f\"Height: {person['height']:.2f}m, Weight: {person['weight']:.2f}kg, BMI: {person['bmi']:.2f}\")"
      ],
      "metadata": {
        "colab": {
          "base_uri": "https://localhost:8080/"
        },
        "id": "Fgtd0u-RzxHO",
        "outputId": "e9a1971d-e666-4047-9da8-3c2dff4e03f2"
      },
      "execution_count": null,
      "outputs": [
        {
          "output_type": "stream",
          "name": "stdout",
          "text": [
            "People with BMI > 25:\n",
            "Height: 1.83m, Weight: 85.32kg, BMI: 25.54\n",
            "Height: 1.79m, Weight: 90.72kg, BMI: 28.37\n",
            "Height: 1.58m, Weight: 87.02kg, BMI: 34.93\n"
          ]
        }
      ]
    }
  ]
}